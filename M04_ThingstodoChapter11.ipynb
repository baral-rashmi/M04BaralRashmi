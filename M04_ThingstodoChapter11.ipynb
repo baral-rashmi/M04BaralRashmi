{
 "cells": [
  {
   "cell_type": "code",
   "execution_count": 4,
   "id": "0f33cb40",
   "metadata": {
    "scrolled": true
   },
   "outputs": [
    {
     "name": "stdout",
     "output_type": "stream",
     "text": [
      "Writing zoo.py\n"
     ]
    }
   ],
   "source": [
    "\"\"\"\n",
    "Creating a zoo.py file and defining a function.Also,importing that zoo module and its function.\n",
    "Thing to do 11.1,11.2\n",
    "Rashmi Baral\n",
    "\"\"\"\n",
    "# defining the hours function\n",
    "def hours():\n",
    "    print(\"Open 9 to 5 daily\")\n",
    "    "
   ]
  },
  {
   "cell_type": "code",
   "execution_count": 7,
   "id": "dba0ca4c",
   "metadata": {},
   "outputs": [],
   "source": [
    "# creating zoo.py and opening the file in write mode. Also, creating hours() function in it\n",
    "with open('zoo.py','w') as file:\n",
    "# writing hours function as a string\n",
    "    file.write('''\n",
    "def hours():\n",
    "    print(\"open 9-5 daily\")\n",
    "    ''')"
   ]
  },
  {
   "cell_type": "code",
   "execution_count": 8,
   "id": "abb5a9ed",
   "metadata": {},
   "outputs": [
    {
     "name": "stdout",
     "output_type": "stream",
     "text": [
      "Open 9 to 5 daily\n"
     ]
    }
   ],
   "source": [
    "# importing and using the avove module\n",
    "import zoo\n",
    "\n",
    "zoo.hours()"
   ]
  },
  {
   "cell_type": "code",
   "execution_count": 9,
   "id": "601d26ce",
   "metadata": {},
   "outputs": [
    {
     "name": "stdout",
     "output_type": "stream",
     "text": [
      "Open 9 to 5 daily\n"
     ]
    }
   ],
   "source": [
    "import zoo as menagerie\n",
    "menagerie.hours()"
   ]
  }
 ],
 "metadata": {
  "kernelspec": {
   "display_name": "Python 3 (ipykernel)",
   "language": "python",
   "name": "python3"
  },
  "language_info": {
   "codemirror_mode": {
    "name": "ipython",
    "version": 3
   },
   "file_extension": ".py",
   "mimetype": "text/x-python",
   "name": "python",
   "nbconvert_exporter": "python",
   "pygments_lexer": "ipython3",
   "version": "3.11.4"
  }
 },
 "nbformat": 4,
 "nbformat_minor": 5
}
